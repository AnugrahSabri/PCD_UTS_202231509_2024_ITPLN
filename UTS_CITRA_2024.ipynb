import cv2
import numpy as np
from google.colab import files
import matplotlib.pyplot as plt
uploaded = files.upload()
